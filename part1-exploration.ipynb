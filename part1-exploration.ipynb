{
 "cells": [
  {
   "cell_type": "markdown",
   "metadata": {},
   "source": [
    "# Home Credit Default Risk\n",
    "In this notebook I explore the datasets provided for the home credit default risk kaggle challenge.  I will cover the following learning objectives here: \n",
    "- Working with structured data\n",
    "- Encoding of categorical variables \n",
    "- Handling missing values \n",
    "Some of this notebook follows the helpful kaggle kernel created by Will Koehrsen hosted [here](https://www.kaggle.com/willkoehrsen/start-here-a-gentle-introduction).  \n",
    "\n",
    "Our task is to create a model that predicts an applicants risk of default based on the provided datasets."
   ]
  },
  {
   "cell_type": "code",
   "execution_count": 1,
   "metadata": {},
   "outputs": [],
   "source": [
    "import matplotlib.pyplot as plt\n",
    "import numpy as np \n",
    "import pandas as pd \n",
    "\n",
    "%matplotlib inline"
   ]
  },
  {
   "cell_type": "code",
   "execution_count": 2,
   "metadata": {},
   "outputs": [
    {
     "name": "stdout",
     "output_type": "stream",
     "text": [
      "/home/dmriser/data/kaggle/home-credit/installments_payments.csv\n",
      "/home/dmriser/data/kaggle/home-credit/application_test.csv\n",
      "/home/dmriser/data/kaggle/home-credit/sample_submission.csv\n",
      "/home/dmriser/data/kaggle/home-credit/HomeCredit_columns_description.csv\n",
      "/home/dmriser/data/kaggle/home-credit/credit_card_balance.csv\n",
      "/home/dmriser/data/kaggle/home-credit/application_train.csv\n",
      "/home/dmriser/data/kaggle/home-credit/bureau.csv\n",
      "/home/dmriser/data/kaggle/home-credit/POS_CASH_balance.csv\n",
      "/home/dmriser/data/kaggle/home-credit/bureau_balance.csv\n",
      "/home/dmriser/data/kaggle/home-credit/previous_application.csv\n"
     ]
    }
   ],
   "source": [
    "import glob \n",
    "path_to_data = '/home/dmriser/data/kaggle/home-credit/'\n",
    "\n",
    "for datafile in glob.glob(path_to_data + '*.csv'):\n",
    "    print(datafile)"
   ]
  },
  {
   "cell_type": "markdown",
   "metadata": {},
   "source": [
    "### Load Data \n",
    "The first thing I want to do is take a look at the structure of each dataset provided.  I will check the size of each dataset, the number of missing values, and the number of categorical features to be encoded or otherwise dealt with.  "
   ]
  },
  {
   "cell_type": "code",
   "execution_count": 3,
   "metadata": {},
   "outputs": [],
   "source": [
    "def check_structure(data):\n",
    "    \n",
    "    # Check shape\n",
    "    print('Dataset has shape (samples, features): ', data.shape)\n",
    "    \n",
    "    # Check missing values (percentage of total)\n",
    "    missing_values = data.isnull().sum() / len(data) * 100.0\n",
    "    missing_values.sort_values(ascending=False, inplace=True)\n",
    "    \n",
    "    print('\\nDataset missing values: ')\n",
    "    print(missing_values.head(12))\n",
    "    \n",
    "    # Check type of variables \n",
    "    print('\\nDataset value types: ')\n",
    "    print(data.dtypes.value_counts())\n",
    "    \n",
    "    # List categorical features and their number of unique values\n",
    "    print('\\nDataset categorical summary: ')\n",
    "    print(data.select_dtypes('object').apply(pd.Series.nunique, axis=0))"
   ]
  },
  {
   "cell_type": "code",
   "execution_count": 18,
   "metadata": {},
   "outputs": [],
   "source": [
    "app_train = pd.read_csv(path_to_data + 'application_train.csv')\n",
    "installment_df = pd.read_csv(path_to_data + 'installments_payments.csv')\n",
    "credit_card_df = pd.read_csv(path_to_data + 'credit_card_balance.csv')\n",
    "bureau_df = pd.read_csv(path_to_data + 'bureau.csv')\n",
    "cash_df = pd.read_csv(path_to_data + 'POS_CASH_balance.csv')\n",
    "bureau_balance_df = pd.read_csv(path_to_data + 'bureau_balance.csv')\n",
    "prev_app_df = pd.read_csv(path_to_data + 'previous_application.csv')"
   ]
  },
  {
   "cell_type": "markdown",
   "metadata": {},
   "source": [
    "### Application Data \n",
    "This is the main dataset provided with the application, that contains 122 features/fields (one of those is the target).  It contains plenty of entries with missing data, and 16 features that are categorical in nature.  "
   ]
  },
  {
   "cell_type": "code",
   "execution_count": 19,
   "metadata": {},
   "outputs": [
    {
     "name": "stdout",
     "output_type": "stream",
     "text": [
      "('Dataset has shape (samples, features): ', (307511, 122))\n",
      "\n",
      "Dataset missing values: \n",
      "COMMONAREA_MEDI             69.872297\n",
      "COMMONAREA_AVG              69.872297\n",
      "COMMONAREA_MODE             69.872297\n",
      "NONLIVINGAPARTMENTS_MODE    69.432963\n",
      "NONLIVINGAPARTMENTS_MEDI    69.432963\n",
      "NONLIVINGAPARTMENTS_AVG     69.432963\n",
      "FONDKAPREMONT_MODE          68.386172\n",
      "LIVINGAPARTMENTS_MEDI       68.354953\n",
      "LIVINGAPARTMENTS_MODE       68.354953\n",
      "LIVINGAPARTMENTS_AVG        68.354953\n",
      "FLOORSMIN_MEDI              67.848630\n",
      "FLOORSMIN_MODE              67.848630\n",
      "dtype: float64\n",
      "\n",
      "Dataset value types: \n",
      "float64    65\n",
      "int64      41\n",
      "object     16\n",
      "dtype: int64\n",
      "\n",
      "Dataset categorical summary: \n",
      "NAME_CONTRACT_TYPE             2\n",
      "CODE_GENDER                    3\n",
      "FLAG_OWN_CAR                   2\n",
      "FLAG_OWN_REALTY                2\n",
      "NAME_TYPE_SUITE                7\n",
      "NAME_INCOME_TYPE               8\n",
      "NAME_EDUCATION_TYPE            5\n",
      "NAME_FAMILY_STATUS             6\n",
      "NAME_HOUSING_TYPE              6\n",
      "OCCUPATION_TYPE               18\n",
      "WEEKDAY_APPR_PROCESS_START     7\n",
      "ORGANIZATION_TYPE             58\n",
      "FONDKAPREMONT_MODE             4\n",
      "HOUSETYPE_MODE                 3\n",
      "WALLSMATERIAL_MODE             7\n",
      "EMERGENCYSTATE_MODE            2\n",
      "dtype: int64\n"
     ]
    }
   ],
   "source": [
    "check_structure(app_train)"
   ]
  },
  {
   "cell_type": "code",
   "execution_count": 20,
   "metadata": {},
   "outputs": [
    {
     "data": {
      "text/html": [
       "<div>\n",
       "<style scoped>\n",
       "    .dataframe tbody tr th:only-of-type {\n",
       "        vertical-align: middle;\n",
       "    }\n",
       "\n",
       "    .dataframe tbody tr th {\n",
       "        vertical-align: top;\n",
       "    }\n",
       "\n",
       "    .dataframe thead th {\n",
       "        text-align: right;\n",
       "    }\n",
       "</style>\n",
       "<table border=\"1\" class=\"dataframe\">\n",
       "  <thead>\n",
       "    <tr style=\"text-align: right;\">\n",
       "      <th></th>\n",
       "      <th>SK_ID_CURR</th>\n",
       "      <th>TARGET</th>\n",
       "      <th>NAME_CONTRACT_TYPE</th>\n",
       "      <th>CODE_GENDER</th>\n",
       "      <th>FLAG_OWN_CAR</th>\n",
       "      <th>FLAG_OWN_REALTY</th>\n",
       "      <th>CNT_CHILDREN</th>\n",
       "      <th>AMT_INCOME_TOTAL</th>\n",
       "      <th>AMT_CREDIT</th>\n",
       "      <th>AMT_ANNUITY</th>\n",
       "      <th>...</th>\n",
       "      <th>FLAG_DOCUMENT_18</th>\n",
       "      <th>FLAG_DOCUMENT_19</th>\n",
       "      <th>FLAG_DOCUMENT_20</th>\n",
       "      <th>FLAG_DOCUMENT_21</th>\n",
       "      <th>AMT_REQ_CREDIT_BUREAU_HOUR</th>\n",
       "      <th>AMT_REQ_CREDIT_BUREAU_DAY</th>\n",
       "      <th>AMT_REQ_CREDIT_BUREAU_WEEK</th>\n",
       "      <th>AMT_REQ_CREDIT_BUREAU_MON</th>\n",
       "      <th>AMT_REQ_CREDIT_BUREAU_QRT</th>\n",
       "      <th>AMT_REQ_CREDIT_BUREAU_YEAR</th>\n",
       "    </tr>\n",
       "  </thead>\n",
       "  <tbody>\n",
       "    <tr>\n",
       "      <th>0</th>\n",
       "      <td>100002</td>\n",
       "      <td>1</td>\n",
       "      <td>Cash loans</td>\n",
       "      <td>M</td>\n",
       "      <td>N</td>\n",
       "      <td>Y</td>\n",
       "      <td>0</td>\n",
       "      <td>202500.0</td>\n",
       "      <td>406597.5</td>\n",
       "      <td>24700.5</td>\n",
       "      <td>...</td>\n",
       "      <td>0</td>\n",
       "      <td>0</td>\n",
       "      <td>0</td>\n",
       "      <td>0</td>\n",
       "      <td>0.0</td>\n",
       "      <td>0.0</td>\n",
       "      <td>0.0</td>\n",
       "      <td>0.0</td>\n",
       "      <td>0.0</td>\n",
       "      <td>1.0</td>\n",
       "    </tr>\n",
       "    <tr>\n",
       "      <th>1</th>\n",
       "      <td>100003</td>\n",
       "      <td>0</td>\n",
       "      <td>Cash loans</td>\n",
       "      <td>F</td>\n",
       "      <td>N</td>\n",
       "      <td>N</td>\n",
       "      <td>0</td>\n",
       "      <td>270000.0</td>\n",
       "      <td>1293502.5</td>\n",
       "      <td>35698.5</td>\n",
       "      <td>...</td>\n",
       "      <td>0</td>\n",
       "      <td>0</td>\n",
       "      <td>0</td>\n",
       "      <td>0</td>\n",
       "      <td>0.0</td>\n",
       "      <td>0.0</td>\n",
       "      <td>0.0</td>\n",
       "      <td>0.0</td>\n",
       "      <td>0.0</td>\n",
       "      <td>0.0</td>\n",
       "    </tr>\n",
       "    <tr>\n",
       "      <th>2</th>\n",
       "      <td>100004</td>\n",
       "      <td>0</td>\n",
       "      <td>Revolving loans</td>\n",
       "      <td>M</td>\n",
       "      <td>Y</td>\n",
       "      <td>Y</td>\n",
       "      <td>0</td>\n",
       "      <td>67500.0</td>\n",
       "      <td>135000.0</td>\n",
       "      <td>6750.0</td>\n",
       "      <td>...</td>\n",
       "      <td>0</td>\n",
       "      <td>0</td>\n",
       "      <td>0</td>\n",
       "      <td>0</td>\n",
       "      <td>0.0</td>\n",
       "      <td>0.0</td>\n",
       "      <td>0.0</td>\n",
       "      <td>0.0</td>\n",
       "      <td>0.0</td>\n",
       "      <td>0.0</td>\n",
       "    </tr>\n",
       "    <tr>\n",
       "      <th>3</th>\n",
       "      <td>100006</td>\n",
       "      <td>0</td>\n",
       "      <td>Cash loans</td>\n",
       "      <td>F</td>\n",
       "      <td>N</td>\n",
       "      <td>Y</td>\n",
       "      <td>0</td>\n",
       "      <td>135000.0</td>\n",
       "      <td>312682.5</td>\n",
       "      <td>29686.5</td>\n",
       "      <td>...</td>\n",
       "      <td>0</td>\n",
       "      <td>0</td>\n",
       "      <td>0</td>\n",
       "      <td>0</td>\n",
       "      <td>NaN</td>\n",
       "      <td>NaN</td>\n",
       "      <td>NaN</td>\n",
       "      <td>NaN</td>\n",
       "      <td>NaN</td>\n",
       "      <td>NaN</td>\n",
       "    </tr>\n",
       "    <tr>\n",
       "      <th>4</th>\n",
       "      <td>100007</td>\n",
       "      <td>0</td>\n",
       "      <td>Cash loans</td>\n",
       "      <td>M</td>\n",
       "      <td>N</td>\n",
       "      <td>Y</td>\n",
       "      <td>0</td>\n",
       "      <td>121500.0</td>\n",
       "      <td>513000.0</td>\n",
       "      <td>21865.5</td>\n",
       "      <td>...</td>\n",
       "      <td>0</td>\n",
       "      <td>0</td>\n",
       "      <td>0</td>\n",
       "      <td>0</td>\n",
       "      <td>0.0</td>\n",
       "      <td>0.0</td>\n",
       "      <td>0.0</td>\n",
       "      <td>0.0</td>\n",
       "      <td>0.0</td>\n",
       "      <td>0.0</td>\n",
       "    </tr>\n",
       "  </tbody>\n",
       "</table>\n",
       "<p>5 rows × 122 columns</p>\n",
       "</div>"
      ],
      "text/plain": [
       "   SK_ID_CURR  TARGET NAME_CONTRACT_TYPE CODE_GENDER FLAG_OWN_CAR  \\\n",
       "0      100002       1         Cash loans           M            N   \n",
       "1      100003       0         Cash loans           F            N   \n",
       "2      100004       0    Revolving loans           M            Y   \n",
       "3      100006       0         Cash loans           F            N   \n",
       "4      100007       0         Cash loans           M            N   \n",
       "\n",
       "  FLAG_OWN_REALTY  CNT_CHILDREN  AMT_INCOME_TOTAL  AMT_CREDIT  AMT_ANNUITY  \\\n",
       "0               Y             0          202500.0    406597.5      24700.5   \n",
       "1               N             0          270000.0   1293502.5      35698.5   \n",
       "2               Y             0           67500.0    135000.0       6750.0   \n",
       "3               Y             0          135000.0    312682.5      29686.5   \n",
       "4               Y             0          121500.0    513000.0      21865.5   \n",
       "\n",
       "              ...              FLAG_DOCUMENT_18 FLAG_DOCUMENT_19  \\\n",
       "0             ...                             0                0   \n",
       "1             ...                             0                0   \n",
       "2             ...                             0                0   \n",
       "3             ...                             0                0   \n",
       "4             ...                             0                0   \n",
       "\n",
       "  FLAG_DOCUMENT_20 FLAG_DOCUMENT_21 AMT_REQ_CREDIT_BUREAU_HOUR  \\\n",
       "0                0                0                        0.0   \n",
       "1                0                0                        0.0   \n",
       "2                0                0                        0.0   \n",
       "3                0                0                        NaN   \n",
       "4                0                0                        0.0   \n",
       "\n",
       "  AMT_REQ_CREDIT_BUREAU_DAY  AMT_REQ_CREDIT_BUREAU_WEEK  \\\n",
       "0                       0.0                         0.0   \n",
       "1                       0.0                         0.0   \n",
       "2                       0.0                         0.0   \n",
       "3                       NaN                         NaN   \n",
       "4                       0.0                         0.0   \n",
       "\n",
       "   AMT_REQ_CREDIT_BUREAU_MON  AMT_REQ_CREDIT_BUREAU_QRT  \\\n",
       "0                        0.0                        0.0   \n",
       "1                        0.0                        0.0   \n",
       "2                        0.0                        0.0   \n",
       "3                        NaN                        NaN   \n",
       "4                        0.0                        0.0   \n",
       "\n",
       "   AMT_REQ_CREDIT_BUREAU_YEAR  \n",
       "0                         1.0  \n",
       "1                         0.0  \n",
       "2                         0.0  \n",
       "3                         NaN  \n",
       "4                         0.0  \n",
       "\n",
       "[5 rows x 122 columns]"
      ]
     },
     "execution_count": 20,
     "metadata": {},
     "output_type": "execute_result"
    }
   ],
   "source": [
    "app_train.head()"
   ]
  },
  {
   "cell_type": "markdown",
   "metadata": {},
   "source": [
    "### Installment Data \n",
    "This dataset provides information on previous home credit payments.  Each payment made or missed is a unique row.  The structure of this dataset is simple, containing very few missing values and no categorical variables.  It contains 8 features."
   ]
  },
  {
   "cell_type": "code",
   "execution_count": 21,
   "metadata": {},
   "outputs": [
    {
     "name": "stdout",
     "output_type": "stream",
     "text": [
      "('Dataset has shape (samples, features): ', (13605401, 8))\n",
      "\n",
      "Dataset missing values: \n",
      "AMT_PAYMENT               0.021352\n",
      "DAYS_ENTRY_PAYMENT        0.021352\n",
      "AMT_INSTALMENT            0.000000\n",
      "DAYS_INSTALMENT           0.000000\n",
      "NUM_INSTALMENT_NUMBER     0.000000\n",
      "NUM_INSTALMENT_VERSION    0.000000\n",
      "SK_ID_CURR                0.000000\n",
      "SK_ID_PREV                0.000000\n",
      "dtype: float64\n",
      "\n",
      "Dataset value types: \n",
      "float64    5\n",
      "int64      3\n",
      "dtype: int64\n",
      "\n",
      "Dataset categorical summary: \n",
      "Series([], dtype: float64)\n"
     ]
    }
   ],
   "source": [
    "check_structure(installment_df)"
   ]
  },
  {
   "cell_type": "markdown",
   "metadata": {},
   "source": [
    "### Credit Card Data\n",
    "Information on credit cards previously held with home credit.  Contains 23 features, some missing data, and one categorical variable."
   ]
  },
  {
   "cell_type": "code",
   "execution_count": 22,
   "metadata": {},
   "outputs": [
    {
     "name": "stdout",
     "output_type": "stream",
     "text": [
      "('Dataset has shape (samples, features): ', (3840312, 23))\n",
      "\n",
      "Dataset missing values: \n",
      "AMT_PAYMENT_CURRENT           19.998063\n",
      "AMT_DRAWINGS_OTHER_CURRENT    19.524872\n",
      "CNT_DRAWINGS_POS_CURRENT      19.524872\n",
      "CNT_DRAWINGS_OTHER_CURRENT    19.524872\n",
      "CNT_DRAWINGS_ATM_CURRENT      19.524872\n",
      "AMT_DRAWINGS_ATM_CURRENT      19.524872\n",
      "AMT_DRAWINGS_POS_CURRENT      19.524872\n",
      "CNT_INSTALMENT_MATURE_CUM      7.948208\n",
      "AMT_INST_MIN_REGULARITY        7.948208\n",
      "SK_DPD_DEF                     0.000000\n",
      "SK_ID_CURR                     0.000000\n",
      "MONTHS_BALANCE                 0.000000\n",
      "dtype: float64\n",
      "\n",
      "Dataset value types: \n",
      "float64    15\n",
      "int64       7\n",
      "object      1\n",
      "dtype: int64\n",
      "\n",
      "Dataset categorical summary: \n",
      "NAME_CONTRACT_STATUS    7\n",
      "dtype: int64\n"
     ]
    }
   ],
   "source": [
    "check_structure(credit_card_df)"
   ]
  },
  {
   "cell_type": "markdown",
   "metadata": {},
   "source": [
    "### Bureau Data \n",
    "Information about the clients credit standings with other financial institutions.  This dataset contains 17 features, a fair amount of missing data in 4-5 of the fields, and contains three categorical variables."
   ]
  },
  {
   "cell_type": "code",
   "execution_count": 23,
   "metadata": {},
   "outputs": [
    {
     "name": "stdout",
     "output_type": "stream",
     "text": [
      "('Dataset has shape (samples, features): ', (1716428, 17))\n",
      "\n",
      "Dataset missing values: \n",
      "AMT_ANNUITY               71.473490\n",
      "AMT_CREDIT_MAX_OVERDUE    65.513264\n",
      "DAYS_ENDDATE_FACT         36.916958\n",
      "AMT_CREDIT_SUM_LIMIT      34.477415\n",
      "AMT_CREDIT_SUM_DEBT       15.011932\n",
      "DAYS_CREDIT_ENDDATE        6.149573\n",
      "AMT_CREDIT_SUM             0.000757\n",
      "CREDIT_TYPE                0.000000\n",
      "AMT_CREDIT_SUM_OVERDUE     0.000000\n",
      "CNT_CREDIT_PROLONG         0.000000\n",
      "DAYS_CREDIT_UPDATE         0.000000\n",
      "CREDIT_DAY_OVERDUE         0.000000\n",
      "dtype: float64\n",
      "\n",
      "Dataset value types: \n",
      "float64    8\n",
      "int64      6\n",
      "object     3\n",
      "dtype: int64\n",
      "\n",
      "Dataset categorical summary: \n",
      "CREDIT_ACTIVE       4\n",
      "CREDIT_CURRENCY     4\n",
      "CREDIT_TYPE        15\n",
      "dtype: int64\n"
     ]
    }
   ],
   "source": [
    "check_structure(bureau_df)"
   ]
  },
  {
   "cell_type": "markdown",
   "metadata": {},
   "source": [
    "### Cash Dataset \n",
    "Point of sale cash and loans information.  This dataset contains eight features, one of which is categorical, and almost no missing entries. "
   ]
  },
  {
   "cell_type": "code",
   "execution_count": 24,
   "metadata": {},
   "outputs": [
    {
     "name": "stdout",
     "output_type": "stream",
     "text": [
      "('Dataset has shape (samples, features): ', (10001358, 8))\n",
      "\n",
      "Dataset missing values: \n",
      "CNT_INSTALMENT_FUTURE    0.260835\n",
      "CNT_INSTALMENT           0.260675\n",
      "SK_DPD_DEF               0.000000\n",
      "SK_DPD                   0.000000\n",
      "NAME_CONTRACT_STATUS     0.000000\n",
      "MONTHS_BALANCE           0.000000\n",
      "SK_ID_CURR               0.000000\n",
      "SK_ID_PREV               0.000000\n",
      "dtype: float64\n",
      "\n",
      "Dataset value types: \n",
      "int64      5\n",
      "float64    2\n",
      "object     1\n",
      "dtype: int64\n",
      "\n",
      "Dataset categorical summary: \n",
      "NAME_CONTRACT_STATUS    9\n",
      "dtype: int64\n"
     ]
    }
   ],
   "source": [
    "check_structure(cash_df)"
   ]
  },
  {
   "cell_type": "markdown",
   "metadata": {},
   "source": [
    "### Bureau Balance Data \n",
    "This is some more data, small dataset."
   ]
  },
  {
   "cell_type": "code",
   "execution_count": 25,
   "metadata": {},
   "outputs": [
    {
     "name": "stdout",
     "output_type": "stream",
     "text": [
      "('Dataset has shape (samples, features): ', (27299925, 3))\n",
      "\n",
      "Dataset missing values: \n",
      "STATUS            0.0\n",
      "MONTHS_BALANCE    0.0\n",
      "SK_ID_BUREAU      0.0\n",
      "dtype: float64\n",
      "\n",
      "Dataset value types: \n",
      "int64     2\n",
      "object    1\n",
      "dtype: int64\n",
      "\n",
      "Dataset categorical summary: \n",
      "STATUS    8\n",
      "dtype: int64\n"
     ]
    }
   ],
   "source": [
    "check_structure(bureau_balance_df)"
   ]
  },
  {
   "cell_type": "code",
   "execution_count": 26,
   "metadata": {},
   "outputs": [
    {
     "name": "stdout",
     "output_type": "stream",
     "text": [
      "('Dataset has shape (samples, features): ', (1670214, 37))\n",
      "\n",
      "Dataset missing values: \n",
      "RATE_INTEREST_PRIVILEGED     99.643698\n",
      "RATE_INTEREST_PRIMARY        99.643698\n",
      "RATE_DOWN_PAYMENT            53.636480\n",
      "AMT_DOWN_PAYMENT             53.636480\n",
      "NAME_TYPE_SUITE              49.119754\n",
      "DAYS_TERMINATION             40.298129\n",
      "NFLAG_INSURED_ON_APPROVAL    40.298129\n",
      "DAYS_FIRST_DRAWING           40.298129\n",
      "DAYS_FIRST_DUE               40.298129\n",
      "DAYS_LAST_DUE_1ST_VERSION    40.298129\n",
      "DAYS_LAST_DUE                40.298129\n",
      "AMT_GOODS_PRICE              23.081773\n",
      "dtype: float64\n",
      "\n",
      "Dataset value types: \n",
      "object     16\n",
      "float64    15\n",
      "int64       6\n",
      "dtype: int64\n",
      "\n",
      "Dataset categorical summary: \n",
      "NAME_CONTRACT_TYPE              4\n",
      "WEEKDAY_APPR_PROCESS_START      7\n",
      "FLAG_LAST_APPL_PER_CONTRACT     2\n",
      "NAME_CASH_LOAN_PURPOSE         25\n",
      "NAME_CONTRACT_STATUS            4\n",
      "NAME_PAYMENT_TYPE               4\n",
      "CODE_REJECT_REASON              9\n",
      "NAME_TYPE_SUITE                 7\n",
      "NAME_CLIENT_TYPE                4\n",
      "NAME_GOODS_CATEGORY            28\n",
      "NAME_PORTFOLIO                  5\n",
      "NAME_PRODUCT_TYPE               3\n",
      "CHANNEL_TYPE                    8\n",
      "NAME_SELLER_INDUSTRY           11\n",
      "NAME_YIELD_GROUP                5\n",
      "PRODUCT_COMBINATION            17\n",
      "dtype: int64\n"
     ]
    }
   ],
   "source": [
    "check_structure(prev_app_df)"
   ]
  },
  {
   "cell_type": "code",
   "execution_count": null,
   "metadata": {},
   "outputs": [],
   "source": []
  }
 ],
 "metadata": {
  "kernelspec": {
   "display_name": "Python 2",
   "language": "python",
   "name": "python2"
  },
  "language_info": {
   "codemirror_mode": {
    "name": "ipython",
    "version": 2
   },
   "file_extension": ".py",
   "mimetype": "text/x-python",
   "name": "python",
   "nbconvert_exporter": "python",
   "pygments_lexer": "ipython2",
   "version": "2.7.12"
  }
 },
 "nbformat": 4,
 "nbformat_minor": 2
}
